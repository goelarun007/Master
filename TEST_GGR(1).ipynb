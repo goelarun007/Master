{
 "cells": [
  {
   "cell_type": "code",
   "execution_count": null,
   "metadata": {},
   "outputs": [],
   "source": [
    "import bs4 as bs                                                               # import beautiful soup for web scrapping\n",
    "import urllib.request                                                          # import urllib to fetch URL\n",
    "from urllib.error import HTTPError                                             # import HTTPError to track the error\n",
    "import mysql.connector                                                         # import mysql connect to connect with mysql"
   ]
  },
  {
   "cell_type": "code",
   "execution_count": null,
   "metadata": {},
   "outputs": [],
   "source": [
    "print('Enter your credentials:-')\n",
    "host=input('Host name:-  ')\n",
    "user=input('user Id:-  ')\n",
    "passw=input('Password:-  ')"
   ]
  },
  {
   "cell_type": "code",
   "execution_count": null,
   "metadata": {},
   "outputs": [],
   "source": [
    "mydb = mysql.connector.connect(      \n",
    "  host=host,\n",
    "  user=user,\n",
    "  passwd=passw\n",
    ")                                                                                 # to connect with database\n",
    "\n",
    "mycursor = mydb.cursor()\n",
    "mycursor.execute(\"CREATE DATABASE testdatabase\")                                  # create database\n",
    "mycursor = mydb.cursor()\n",
    "mycursor.execute(\"CREATE TABLE weblink (link VARCHAR(255), title VARCHAR(255))\")  # create table in database "
   ]
  },
  {
   "cell_type": "code",
   "execution_count": null,
   "metadata": {},
   "outputs": [],
   "source": [
    "\"\"\"Insert function to insert url and title to table\"\"\"\n",
    "def insertintable():\n",
    "    sql = \"INSERT INTO weblink (link, title) VALUES (%s, %s)\"\n",
    "    val = (url1, title)\n",
    "    mycursor.execute(sql, val)\n",
    "    mydb.commit()                                                             "
   ]
  },
  {
   "cell_type": "code",
   "execution_count": null,
   "metadata": {},
   "outputs": [],
   "source": [
    "\"\"\"Get titles for URLs used in web page of master URL\"\"\"\n",
    "def call_url(url1):\n",
    "    try:\n",
    "        print(url1)\n",
    "        source= urllib.request.urlopen(url1).read()\n",
    "        soup = bs.BeautifulSoup(source,'lxml')\n",
    "        return(soup.title)\n",
    "    except HTTPError: \n",
    "        return('Request denied to get title')\n",
    "    except: \n",
    "        return('Not possible to get title')"
   ]
  },
  {
   "cell_type": "code",
   "execution_count": null,
   "metadata": {},
   "outputs": [],
   "source": [
    "url1=input('Enter URL to find the titles:- ')                                     # fetch URL\n",
    "source= urllib.request.urlopen(url1).read()                                       # read URL                                   \n",
    "soup = bs.BeautifulSoup(source,'lxml')                                            # create soup object to parse the URL\n",
    "title=soup.title                                                                  # getting title for URL\n",
    "insertintable(url1,title)                                                         # insert in table"
   ]
  },
  {
   "cell_type": "code",
   "execution_count": null,
   "metadata": {
    "scrolled": false
   },
   "outputs": [],
   "source": [
    "for url in soup.find_all('a'):                                                   # travrsing through all the URLs found within a page’s <a> tags\n",
    "    \n",
    "    url1=url.get('href')                                                         # get hyperlink part\n",
    "    if url1 != None:\n",
    "        if 'https://' in url1:\n",
    "            title=call_url(url1)\n",
    "            insertintable(url1,title)\n",
    "            "
   ]
  },
  {
   "cell_type": "code",
   "execution_count": null,
   "metadata": {},
   "outputs": [],
   "source": []
  },
  {
   "cell_type": "code",
   "execution_count": null,
   "metadata": {},
   "outputs": [],
   "source": []
  }
 ],
 "metadata": {
  "kernelspec": {
   "display_name": "Python 3",
   "language": "python",
   "name": "python3"
  },
  "language_info": {
   "codemirror_mode": {
    "name": "ipython",
    "version": 3
   },
   "file_extension": ".py",
   "mimetype": "text/x-python",
   "name": "python",
   "nbconvert_exporter": "python",
   "pygments_lexer": "ipython3",
   "version": "3.6.5"
  }
 },
 "nbformat": 4,
 "nbformat_minor": 2
}
